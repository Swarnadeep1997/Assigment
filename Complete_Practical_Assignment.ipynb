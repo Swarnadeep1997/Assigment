{
 "cells": [
  {
   "cell_type": "markdown",
   "id": "77b3c6ba",
   "metadata": {},
   "source": [
    "# Files, Exception Handling, Logging, and Memory Management Assignment\n",
    "**Course:** Java + DSA (PwSkills)\n",
    "**Submitted by:** Swarnadeep Sarcar\n",
    "---"
   ]
  },
  {
   "cell_type": "markdown",
   "id": "a6f382f2",
   "metadata": {},
   "source": [
    "### Practical Question 1: How can you open a file for writing in Python and write a string to it"
   ]
  },
  {
   "cell_type": "code",
   "execution_count": null,
   "id": "63b91a7f",
   "metadata": {},
   "outputs": [],
   "source": [
    "with open(\"output.txt\", \"w\") as f:\n",
    "    f.write(\"Hello, this is a test string!\")"
   ]
  },
  {
   "cell_type": "markdown",
   "id": "5224ff27",
   "metadata": {},
   "source": [
    "### Practical Question 2: Write a Python program to read the contents of a file and print each line"
   ]
  },
  {
   "cell_type": "code",
   "execution_count": null,
   "id": "fbf792f0",
   "metadata": {},
   "outputs": [],
   "source": [
    "with open(\"output.txt\", \"r\") as f:\n",
    "    for line in f:\n",
    "        print(line.strip())"
   ]
  },
  {
   "cell_type": "markdown",
   "id": "f5e3ef61",
   "metadata": {},
   "source": [
    "### Practical Question 3: How would you handle a case where the file doesn't exist while trying to open it for reading"
   ]
  },
  {
   "cell_type": "code",
   "execution_count": null,
   "id": "9207047e",
   "metadata": {},
   "outputs": [],
   "source": [
    "try:\n",
    "    with open(\"nonexistent.txt\", \"r\") as f:\n",
    "        content = f.read()\n",
    "except FileNotFoundError:\n",
    "    print(\"File not found!\")"
   ]
  },
  {
   "cell_type": "markdown",
   "id": "49c96094",
   "metadata": {},
   "source": [
    "### Practical Question 4: Write a Python script that reads from one file and writes its content to another file"
   ]
  },
  {
   "cell_type": "code",
   "execution_count": null,
   "id": "fff48831",
   "metadata": {},
   "outputs": [],
   "source": [
    "with open(\"source.txt\", \"r\") as src, open(\"destination.txt\", \"w\") as dst:\n",
    "    dst.write(src.read())"
   ]
  },
  {
   "cell_type": "markdown",
   "id": "43e858aa",
   "metadata": {},
   "source": [
    "### Practical Question 5: How would you catch and handle division by zero error in Python"
   ]
  },
  {
   "cell_type": "code",
   "execution_count": null,
   "id": "338167d6",
   "metadata": {},
   "outputs": [],
   "source": [
    "try:\n",
    "    result = 10 / 0\n",
    "except ZeroDivisionError:\n",
    "    print(\"Cannot divide by zero!\")"
   ]
  },
  {
   "cell_type": "markdown",
   "id": "22fabe3a",
   "metadata": {},
   "source": [
    "### Practical Question 6: Write a Python program that logs an error message to a log file when a division by zero exception occurs"
   ]
  },
  {
   "cell_type": "code",
   "execution_count": null,
   "id": "be85414b",
   "metadata": {},
   "outputs": [],
   "source": [
    "import logging\n",
    "logging.basicConfig(filename=\"error.log\", level=logging.ERROR)\n",
    "\n",
    "try:\n",
    "    x = 10 / 0\n",
    "except ZeroDivisionError as e:\n",
    "    logging.error(f\"Error occurred: {e}\")"
   ]
  },
  {
   "cell_type": "markdown",
   "id": "6233d845",
   "metadata": {},
   "source": [
    "### Practical Question 7: How do you log information at different levels (INFO, ERROR, WARNING) in Python using the logging module"
   ]
  },
  {
   "cell_type": "code",
   "execution_count": null,
   "id": "4a7b394f",
   "metadata": {},
   "outputs": [],
   "source": [
    "import logging\n",
    "logging.basicConfig(level=logging.DEBUG)\n",
    "logging.info(\"This is an info message\")\n",
    "logging.warning(\"This is a warning message\")\n",
    "logging.error(\"This is an error message\")"
   ]
  },
  {
   "cell_type": "markdown",
   "id": "af40502e",
   "metadata": {},
   "source": [
    "### Practical Question 8: Write a program to handle a file opening error using exception handling"
   ]
  },
  {
   "cell_type": "code",
   "execution_count": null,
   "id": "2098fafe",
   "metadata": {},
   "outputs": [],
   "source": [
    "try:\n",
    "    with open(\"myfile.txt\", \"r\") as f:\n",
    "        print(f.read())\n",
    "except FileNotFoundError:\n",
    "    print(\"File not found error!\")"
   ]
  },
  {
   "cell_type": "markdown",
   "id": "95386ac3",
   "metadata": {},
   "source": [
    "### Practical Question 9: How can you read a file line by line and store its content in a list in Python"
   ]
  },
  {
   "cell_type": "code",
   "execution_count": null,
   "id": "d3e511ff",
   "metadata": {},
   "outputs": [],
   "source": [
    "with open(\"data.txt\", \"r\") as f:\n",
    "    lines = f.readlines()\n",
    "print(lines)"
   ]
  },
  {
   "cell_type": "markdown",
   "id": "f721bc34",
   "metadata": {},
   "source": [
    "### Practical Question 10: How can you append data to an existing file in Python"
   ]
  },
  {
   "cell_type": "code",
   "execution_count": null,
   "id": "6f0ccc45",
   "metadata": {},
   "outputs": [],
   "source": [
    "with open(\"data.txt\", \"a\") as f:\n",
    "    f.write(\"\\nThis is appended text.\")"
   ]
  },
  {
   "cell_type": "markdown",
   "id": "bacacdb1",
   "metadata": {},
   "source": [
    "### Practical Question 11: Write a Python program that uses a try-except block to handle an error when attempting to access a dictionary key that doesn't exist"
   ]
  },
  {
   "cell_type": "code",
   "execution_count": null,
   "id": "5c9a1fe2",
   "metadata": {},
   "outputs": [],
   "source": [
    "try:\n",
    "    my_dict = {\"name\": \"Alice\"}\n",
    "    print(my_dict[\"age\"])\n",
    "except KeyError:\n",
    "    print(\"Key not found in dictionary\")"
   ]
  },
  {
   "cell_type": "markdown",
   "id": "cd70aca2",
   "metadata": {},
   "source": [
    "### Practical Question 12: Write a program that demonstrates using multiple except blocks to handle different types of exceptions"
   ]
  },
  {
   "cell_type": "code",
   "execution_count": null,
   "id": "2ac8c610",
   "metadata": {},
   "outputs": [],
   "source": [
    "try:\n",
    "    x = int(\"abc\")\n",
    "    y = 10 / 0\n",
    "except ValueError:\n",
    "    print(\"ValueError occurred\")\n",
    "except ZeroDivisionError:\n",
    "    print(\"ZeroDivisionError occurred\")"
   ]
  },
  {
   "cell_type": "markdown",
   "id": "b9501a0c",
   "metadata": {},
   "source": [
    "### Practical Question 13: How would you check if a file exists before attempting to read it in Python"
   ]
  },
  {
   "cell_type": "code",
   "execution_count": null,
   "id": "3787d2ac",
   "metadata": {},
   "outputs": [],
   "source": [
    "import os\n",
    "if os.path.exists(\"check.txt\"):\n",
    "    with open(\"check.txt\", \"r\") as f:\n",
    "        print(f.read())\n",
    "else:\n",
    "    print(\"File does not exist\")"
   ]
  },
  {
   "cell_type": "markdown",
   "id": "8a7736c7",
   "metadata": {},
   "source": [
    "### Practical Question 14: Write a program that uses the logging module to log both informational and error messages"
   ]
  },
  {
   "cell_type": "code",
   "execution_count": null,
   "id": "c6bf0ce9",
   "metadata": {},
   "outputs": [],
   "source": [
    "import logging\n",
    "logging.basicConfig(level=logging.DEBUG)\n",
    "logging.info(\"Starting the program\")\n",
    "try:\n",
    "    x = 1 / 0\n",
    "except ZeroDivisionError:\n",
    "    logging.error(\"Attempted division by zero\")"
   ]
  },
  {
   "cell_type": "markdown",
   "id": "00c6d7f9",
   "metadata": {},
   "source": [
    "### Practical Question 15: Write a Python program that prints the content of a file and handles the case when the file is empty"
   ]
  },
  {
   "cell_type": "code",
   "execution_count": null,
   "id": "406926c6",
   "metadata": {},
   "outputs": [],
   "source": [
    "with open(\"sample.txt\", \"r\") as f:\n",
    "    content = f.read()\n",
    "    if not content:\n",
    "        print(\"File is empty\")\n",
    "    else:\n",
    "        print(content)"
   ]
  },
  {
   "cell_type": "markdown",
   "id": "f25da57a",
   "metadata": {},
   "source": [
    "### Practical Question 16: Demonstrate how to use memory profiling to check the memory usage of a small program"
   ]
  },
  {
   "cell_type": "code",
   "execution_count": null,
   "id": "56fd586b",
   "metadata": {},
   "outputs": [],
   "source": [
    "# pip install memory_profiler\n",
    "from memory_profiler import profile\n",
    "\n",
    "@profile\n",
    "def create_list():\n",
    "    return [i for i in range(10000)]\n",
    "\n",
    "create_list()"
   ]
  },
  {
   "cell_type": "markdown",
   "id": "7d3fdb1b",
   "metadata": {},
   "source": [
    "### Practical Question 17: Write a Python program to create and write a list of numbers to a file, one number per line"
   ]
  },
  {
   "cell_type": "code",
   "execution_count": null,
   "id": "570eed21",
   "metadata": {},
   "outputs": [],
   "source": [
    "numbers = [1, 2, 3, 4, 5]\n",
    "with open(\"numbers.txt\", \"w\") as f:\n",
    "    for number in numbers:\n",
    "        f.write(f\"{number}\\n\")"
   ]
  },
  {
   "cell_type": "markdown",
   "id": "339b28aa",
   "metadata": {},
   "source": [
    "### Practical Question 18: How would you implement a basic logging setup that logs to a file with rotation after 1MB"
   ]
  },
  {
   "cell_type": "code",
   "execution_count": null,
   "id": "9b1599e0",
   "metadata": {},
   "outputs": [],
   "source": [
    "import logging\n",
    "from logging.handlers import RotatingFileHandler\n",
    "\n",
    "handler = RotatingFileHandler(\"rotating.log\", maxBytes=1024*1024, backupCount=3)\n",
    "logging.basicConfig(handlers=[handler], level=logging.INFO)\n",
    "logging.info(\"Logging with rotation\")"
   ]
  },
  {
   "cell_type": "markdown",
   "id": "121c4629",
   "metadata": {},
   "source": [
    "### Practical Question 19: Write a program that handles both IndexError and KeyError using a try-except block"
   ]
  },
  {
   "cell_type": "code",
   "execution_count": null,
   "id": "d060e6f3",
   "metadata": {},
   "outputs": [],
   "source": [
    "try:\n",
    "    lst = [1, 2, 3]\n",
    "    print(lst[5])\n",
    "    d = {\"a\": 1}\n",
    "    print(d[\"b\"])\n",
    "except IndexError:\n",
    "    print(\"IndexError occurred\")\n",
    "except KeyError:\n",
    "    print(\"KeyError occurred\")"
   ]
  },
  {
   "cell_type": "markdown",
   "id": "bea8ea49",
   "metadata": {},
   "source": [
    "### Practical Question 20: How would you open a file and read its contents using a context manager in Python"
   ]
  },
  {
   "cell_type": "code",
   "execution_count": null,
   "id": "ce2ad754",
   "metadata": {},
   "outputs": [],
   "source": [
    "with open(\"file.txt\", \"r\") as f:\n",
    "    print(f.read())"
   ]
  },
  {
   "cell_type": "markdown",
   "id": "e5a2d37f",
   "metadata": {},
   "source": [
    "### Practical Question 21: Write a Python program that reads a file and prints the number of occurrences of a specific word"
   ]
  },
  {
   "cell_type": "code",
   "execution_count": null,
   "id": "174f8165",
   "metadata": {},
   "outputs": [],
   "source": [
    "word = \"python\"\n",
    "count = 0\n",
    "with open(\"sample.txt\", \"r\") as f:\n",
    "    for line in f:\n",
    "        count += line.lower().count(word)\n",
    "print(f\"'{word}' occurred {count} times\")"
   ]
  },
  {
   "cell_type": "markdown",
   "id": "0bbf8413",
   "metadata": {},
   "source": [
    "### Practical Question 22: How can you check if a file is empty before attempting to read its contents"
   ]
  },
  {
   "cell_type": "code",
   "execution_count": null,
   "id": "bc588c28",
   "metadata": {},
   "outputs": [],
   "source": [
    "import os\n",
    "if os.path.getsize(\"sample.txt\") == 0:\n",
    "    print(\"File is empty\")\n",
    "else:\n",
    "    with open(\"sample.txt\", \"r\") as f:\n",
    "        print(f.read())"
   ]
  },
  {
   "cell_type": "markdown",
   "id": "91f95319",
   "metadata": {},
   "source": [
    "### Practical Question 23: Write a Python program that writes to a log file when an error occurs during file handling."
   ]
  },
  {
   "cell_type": "code",
   "execution_count": null,
   "id": "29b4019e",
   "metadata": {},
   "outputs": [],
   "source": [
    "import logging\n",
    "logging.basicConfig(filename=\"file_error.log\", level=logging.ERROR)\n",
    "\n",
    "try:\n",
    "    with open(\"nofile.txt\", \"r\") as f:\n",
    "        content = f.read()\n",
    "except FileNotFoundError as e:\n",
    "    logging.error(f\"File error: {e}\")"
   ]
  }
 ],
 "metadata": {},
 "nbformat": 4,
 "nbformat_minor": 5
}