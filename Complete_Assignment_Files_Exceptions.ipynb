{
 "cells": [
  {
   "cell_type": "markdown",
   "id": "7b26cb70",
   "metadata": {},
   "source": [
    "# Files, Exception Handling, Logging, and Memory Management Assignment\n",
    "**Course:** Java + DSA (PwSkills)\n",
    "**Submitted by:** Swarnadeep Sarcar\n",
    "\n",
    "---\n"
   ]
  },
  {
   "cell_type": "markdown",
   "id": "a2bad478",
   "metadata": {},
   "source": [
    "### What is the difference between interpreted and compiled languages"
   ]
  },
  {
   "cell_type": "markdown",
   "id": "df6cedd0",
   "metadata": {},
   "source": [
    "Compiled languages translate code to machine language before execution (e.g., C, C++), offering better performance. Interpreted languages execute code line-by-line using an interpreter (e.g., Python, JavaScript), offering easier debugging and flexibility."
   ]
  },
  {
   "cell_type": "markdown",
   "id": "07e19a70",
   "metadata": {},
   "source": [
    "### What is exception handling in Python"
   ]
  },
  {
   "cell_type": "markdown",
   "id": "52af73f2",
   "metadata": {},
   "source": [
    "Exception handling allows a program to deal with unexpected errors without crashing. It uses try-except blocks to catch and handle exceptions."
   ]
  },
  {
   "cell_type": "markdown",
   "id": "bead59d7",
   "metadata": {},
   "source": [
    "### What is the purpose of the finally block in exception handling"
   ]
  },
  {
   "cell_type": "markdown",
   "id": "b2b0969b",
   "metadata": {},
   "source": [
    "The `finally` block contains code that always executes after the try-except blocks, regardless of whether an exception occurred or not."
   ]
  },
  {
   "cell_type": "markdown",
   "id": "48632282",
   "metadata": {},
   "source": [
    "### What is logging in Python"
   ]
  },
  {
   "cell_type": "markdown",
   "id": "7f67454e",
   "metadata": {},
   "source": [
    "Logging is used to track events that happen during execution. It helps in debugging, auditing, and monitoring."
   ]
  },
  {
   "cell_type": "markdown",
   "id": "bddce3c5",
   "metadata": {},
   "source": [
    "### What is the significance of the __del__ method in Python"
   ]
  },
  {
   "cell_type": "markdown",
   "id": "b3ad163f",
   "metadata": {},
   "source": [
    "`__del__` is a destructor method called when an object is about to be destroyed. It is used to release resources."
   ]
  },
  {
   "cell_type": "markdown",
   "id": "1fdc1211",
   "metadata": {},
   "source": [
    "### What is the difference between import and from ... import in Python"
   ]
  },
  {
   "cell_type": "markdown",
   "id": "7cbcbaf5",
   "metadata": {},
   "source": [
    "`import module` imports the whole module. `from module import x` imports only `x` from the module."
   ]
  },
  {
   "cell_type": "markdown",
   "id": "0c9614f3",
   "metadata": {},
   "source": [
    "### How can you handle multiple exceptions in Python"
   ]
  },
  {
   "cell_type": "markdown",
   "id": "9b00888c",
   "metadata": {},
   "source": [
    "You can use multiple `except` blocks or a single block with a tuple of exceptions, e.g., `except (TypeError, ValueError):`."
   ]
  },
  {
   "cell_type": "markdown",
   "id": "119f0c28",
   "metadata": {},
   "source": [
    "### What is the purpose of the with statement when handling files in Python"
   ]
  },
  {
   "cell_type": "markdown",
   "id": "72272938",
   "metadata": {},
   "source": [
    "It ensures the file is properly closed after its suite finishes, even if an exception is raised."
   ]
  },
  {
   "cell_type": "markdown",
   "id": "698c1196",
   "metadata": {},
   "source": [
    "### What is the difference between multithreading and multiprocessing"
   ]
  },
  {
   "cell_type": "markdown",
   "id": "4cb619d8",
   "metadata": {},
   "source": [
    "Multithreading runs multiple threads in a process, sharing memory. Multiprocessing runs multiple processes with separate memory."
   ]
  },
  {
   "cell_type": "markdown",
   "id": "bc29e40d",
   "metadata": {},
   "source": [
    "### What are the advantages of using logging in a program"
   ]
  },
  {
   "cell_type": "markdown",
   "id": "0c8ccb2c",
   "metadata": {},
   "source": [
    "Persistent record of execution, easier debugging, adjustable logging levels, and better than print statements."
   ]
  },
  {
   "cell_type": "markdown",
   "id": "a74192b7",
   "metadata": {},
   "source": [
    "### What is memory management in Python"
   ]
  },
  {
   "cell_type": "markdown",
   "id": "39350d39",
   "metadata": {},
   "source": [
    "Automatic management of memory allocation and deallocation using reference counting and garbage collection."
   ]
  },
  {
   "cell_type": "markdown",
   "id": "2ae3f030",
   "metadata": {},
   "source": [
    "### What are the basic steps involved in exception handling in Python"
   ]
  },
  {
   "cell_type": "markdown",
   "id": "1cc0ab10",
   "metadata": {},
   "source": [
    "`try` to catch error-prone code, `except` to handle the error, optionally `else` and `finally`."
   ]
  },
  {
   "cell_type": "markdown",
   "id": "b40d4ca8",
   "metadata": {},
   "source": [
    "### Why is memory management important in Python"
   ]
  },
  {
   "cell_type": "markdown",
   "id": "daea1586",
   "metadata": {},
   "source": [
    "It ensures efficient use of memory, prevents memory leaks and performance degradation."
   ]
  },
  {
   "cell_type": "markdown",
   "id": "48b8abb5",
   "metadata": {},
   "source": [
    "### What is the role of try and except in exception handling"
   ]
  },
  {
   "cell_type": "markdown",
   "id": "147aaa59",
   "metadata": {},
   "source": [
    "`try` block lets you test code for errors, `except` block lets you handle the error."
   ]
  },
  {
   "cell_type": "markdown",
   "id": "abdf9ec0",
   "metadata": {},
   "source": [
    "### How does Python's garbage collection system work"
   ]
  },
  {
   "cell_type": "markdown",
   "id": "f22b8f23",
   "metadata": {},
   "source": [
    "It uses reference counting and a cyclic garbage collector to automatically manage memory."
   ]
  },
  {
   "cell_type": "markdown",
   "id": "d0bac791",
   "metadata": {},
   "source": [
    "### What is the purpose of the else block in exception handling"
   ]
  },
  {
   "cell_type": "markdown",
   "id": "6bb61644",
   "metadata": {},
   "source": [
    "Runs if no exception occurs in the `try` block."
   ]
  },
  {
   "cell_type": "markdown",
   "id": "6d0ea825",
   "metadata": {},
   "source": [
    "### What are the common logging levels in Python"
   ]
  },
  {
   "cell_type": "markdown",
   "id": "0f5ddb42",
   "metadata": {},
   "source": [
    "`DEBUG`, `INFO`, `WARNING`, `ERROR`, `CRITICAL`."
   ]
  },
  {
   "cell_type": "markdown",
   "id": "76a80c1d",
   "metadata": {},
   "source": [
    "### What is the difference between os.fork() and multiprocessing in Python"
   ]
  },
  {
   "cell_type": "markdown",
   "id": "ea6edf30",
   "metadata": {},
   "source": [
    "`os.fork()` creates a child process (Unix-only); `multiprocessing` is cross-platform and safer for Python."
   ]
  },
  {
   "cell_type": "markdown",
   "id": "e94701f5",
   "metadata": {},
   "source": [
    "### What is the importance of closing a file in Python"
   ]
  },
  {
   "cell_type": "markdown",
   "id": "06de5a6c",
   "metadata": {},
   "source": [
    "Closes file descriptors, flushes buffers, and frees up system resources."
   ]
  },
  {
   "cell_type": "markdown",
   "id": "32c767ad",
   "metadata": {},
   "source": [
    "### What is the difference between file.read() and file.readline() in Python"
   ]
  },
  {
   "cell_type": "markdown",
   "id": "3ca554e2",
   "metadata": {},
   "source": [
    "`read()` reads entire file, `readline()` reads one line at a time."
   ]
  },
  {
   "cell_type": "markdown",
   "id": "34869004",
   "metadata": {},
   "source": [
    "### What is the logging module in Python used for"
   ]
  },
  {
   "cell_type": "markdown",
   "id": "6d77e5f7",
   "metadata": {},
   "source": [
    "To record events and messages during program execution."
   ]
  },
  {
   "cell_type": "markdown",
   "id": "9ca8815e",
   "metadata": {},
   "source": [
    "### What is the os module in Python used for in file handling"
   ]
  },
  {
   "cell_type": "markdown",
   "id": "d2799791",
   "metadata": {},
   "source": [
    "For interacting with the operating system: file paths, environment variables, etc."
   ]
  },
  {
   "cell_type": "markdown",
   "id": "76397cf4",
   "metadata": {},
   "source": [
    "### What are the challenges associated with memory management in Python"
   ]
  },
  {
   "cell_type": "markdown",
   "id": "42646d01",
   "metadata": {},
   "source": [
    "Handling large data, cyclic references, memory leaks from persistent references."
   ]
  },
  {
   "cell_type": "markdown",
   "id": "f7f1239b",
   "metadata": {},
   "source": [
    "### How do you raise an exception manually in Python"
   ]
  },
  {
   "cell_type": "markdown",
   "id": "7ba1204a",
   "metadata": {},
   "source": [
    "`raise ValueError(\"message\")`"
   ]
  },
  {
   "cell_type": "markdown",
   "id": "069e4aea",
   "metadata": {},
   "source": [
    "### Why is it important to use multithreading in certain applications"
   ]
  },
  {
   "cell_type": "markdown",
   "id": "f9a66538",
   "metadata": {},
   "source": [
    "To improve performance in I/O-bound tasks like file handling and network communication."
   ]
  },
  {
   "cell_type": "markdown",
   "id": "abe3b661",
   "metadata": {},
   "source": [
    "### Practical Question 1: How can you open a file for writing in Python and write a string to it"
   ]
  },
  {
   "cell_type": "code",
   "execution_count": null,
   "id": "f32c625d",
   "metadata": {},
   "outputs": [],
   "source": [
    "# Solution for Practical Question 1 goes here"
   ]
  },
  {
   "cell_type": "markdown",
   "id": "cf2afd7e",
   "metadata": {},
   "source": [
    "### Practical Question 2: Write a Python program to read the contents of a file and print each line"
   ]
  },
  {
   "cell_type": "code",
   "execution_count": null,
   "id": "a8961bb4",
   "metadata": {},
   "outputs": [],
   "source": [
    "# Solution for Practical Question 2 goes here"
   ]
  },
  {
   "cell_type": "markdown",
   "id": "ecaf46fa",
   "metadata": {},
   "source": [
    "### Practical Question 3: How would you handle a case where the file doesn't exist while trying to open it for reading"
   ]
  },
  {
   "cell_type": "code",
   "execution_count": null,
   "id": "1ff10fb0",
   "metadata": {},
   "outputs": [],
   "source": [
    "# Solution for Practical Question 3 goes here"
   ]
  },
  {
   "cell_type": "markdown",
   "id": "5aca76eb",
   "metadata": {},
   "source": [
    "### Practical Question 4: Write a Python script that reads from one file and writes its content to another file"
   ]
  },
  {
   "cell_type": "code",
   "execution_count": null,
   "id": "d3fff387",
   "metadata": {},
   "outputs": [],
   "source": [
    "# Solution for Practical Question 4 goes here"
   ]
  },
  {
   "cell_type": "markdown",
   "id": "b191649d",
   "metadata": {},
   "source": [
    "### Practical Question 5: How would you catch and handle division by zero error in Python"
   ]
  },
  {
   "cell_type": "code",
   "execution_count": null,
   "id": "dedca57a",
   "metadata": {},
   "outputs": [],
   "source": [
    "# Solution for Practical Question 5 goes here"
   ]
  },
  {
   "cell_type": "markdown",
   "id": "c8671de0",
   "metadata": {},
   "source": [
    "### Practical Question 6: Write a Python program that logs an error message to a log file when a division by zero exception occurs"
   ]
  },
  {
   "cell_type": "code",
   "execution_count": null,
   "id": "280b2814",
   "metadata": {},
   "outputs": [],
   "source": [
    "# Solution for Practical Question 6 goes here"
   ]
  },
  {
   "cell_type": "markdown",
   "id": "49aeb55d",
   "metadata": {},
   "source": [
    "### Practical Question 7: How do you log information at different levels (INFO, ERROR, WARNING) in Python using the logging module"
   ]
  },
  {
   "cell_type": "code",
   "execution_count": null,
   "id": "c40ad0b4",
   "metadata": {},
   "outputs": [],
   "source": [
    "# Solution for Practical Question 7 goes here"
   ]
  },
  {
   "cell_type": "markdown",
   "id": "418fe7ec",
   "metadata": {},
   "source": [
    "### Practical Question 8: Write a program to handle a file opening error using exception handling"
   ]
  },
  {
   "cell_type": "code",
   "execution_count": null,
   "id": "b4c326c6",
   "metadata": {},
   "outputs": [],
   "source": [
    "# Solution for Practical Question 8 goes here"
   ]
  },
  {
   "cell_type": "markdown",
   "id": "bfc91289",
   "metadata": {},
   "source": [
    "### Practical Question 9: How can you read a file line by line and store its content in a list in Python"
   ]
  },
  {
   "cell_type": "code",
   "execution_count": null,
   "id": "a55606cf",
   "metadata": {},
   "outputs": [],
   "source": [
    "# Solution for Practical Question 9 goes here"
   ]
  },
  {
   "cell_type": "markdown",
   "id": "406212bb",
   "metadata": {},
   "source": [
    "### Practical Question 10: How can you append data to an existing file in Python"
   ]
  },
  {
   "cell_type": "code",
   "execution_count": null,
   "id": "85a76582",
   "metadata": {},
   "outputs": [],
   "source": [
    "# Solution for Practical Question 10 goes here"
   ]
  },
  {
   "cell_type": "markdown",
   "id": "c6607c20",
   "metadata": {},
   "source": [
    "### Practical Question 11: Write a Python program that uses a try-except block to handle an error when attempting to access a dictionary key that doesn't exist"
   ]
  },
  {
   "cell_type": "code",
   "execution_count": null,
   "id": "9183868c",
   "metadata": {},
   "outputs": [],
   "source": [
    "# Solution for Practical Question 11 goes here"
   ]
  },
  {
   "cell_type": "markdown",
   "id": "c8437f1e",
   "metadata": {},
   "source": [
    "### Practical Question 12: Write a program that demonstrates using multiple except blocks to handle different types of exceptions"
   ]
  },
  {
   "cell_type": "code",
   "execution_count": null,
   "id": "d54a1fca",
   "metadata": {},
   "outputs": [],
   "source": [
    "# Solution for Practical Question 12 goes here"
   ]
  },
  {
   "cell_type": "markdown",
   "id": "3c1761c3",
   "metadata": {},
   "source": [
    "### Practical Question 13: How would you check if a file exists before attempting to read it in Python"
   ]
  },
  {
   "cell_type": "code",
   "execution_count": null,
   "id": "190cdc5c",
   "metadata": {},
   "outputs": [],
   "source": [
    "# Solution for Practical Question 13 goes here"
   ]
  },
  {
   "cell_type": "markdown",
   "id": "a965364d",
   "metadata": {},
   "source": [
    "### Practical Question 14: Write a program that uses the logging module to log both informational and error messages"
   ]
  },
  {
   "cell_type": "code",
   "execution_count": null,
   "id": "e5c695c1",
   "metadata": {},
   "outputs": [],
   "source": [
    "# Solution for Practical Question 14 goes here"
   ]
  },
  {
   "cell_type": "markdown",
   "id": "c266adfd",
   "metadata": {},
   "source": [
    "### Practical Question 15: Write a Python program that prints the content of a file and handles the case when the file is empty"
   ]
  },
  {
   "cell_type": "code",
   "execution_count": null,
   "id": "6818353a",
   "metadata": {},
   "outputs": [],
   "source": [
    "# Solution for Practical Question 15 goes here"
   ]
  },
  {
   "cell_type": "markdown",
   "id": "0d4faa2a",
   "metadata": {},
   "source": [
    "### Practical Question 16: Demonstrate how to use memory profiling to check the memory usage of a small program"
   ]
  },
  {
   "cell_type": "code",
   "execution_count": null,
   "id": "1c8b9c96",
   "metadata": {},
   "outputs": [],
   "source": [
    "# Solution for Practical Question 16 goes here"
   ]
  },
  {
   "cell_type": "markdown",
   "id": "59b3b0d6",
   "metadata": {},
   "source": [
    "### Practical Question 17: Write a Python program to create and write a list of numbers to a file, one number per line"
   ]
  },
  {
   "cell_type": "code",
   "execution_count": null,
   "id": "90afcf89",
   "metadata": {},
   "outputs": [],
   "source": [
    "# Solution for Practical Question 17 goes here"
   ]
  },
  {
   "cell_type": "markdown",
   "id": "d928cc51",
   "metadata": {},
   "source": [
    "### Practical Question 18: How would you implement a basic logging setup that logs to a file with rotation after 1MB"
   ]
  },
  {
   "cell_type": "code",
   "execution_count": null,
   "id": "f8631331",
   "metadata": {},
   "outputs": [],
   "source": [
    "# Solution for Practical Question 18 goes here"
   ]
  },
  {
   "cell_type": "markdown",
   "id": "9aa78394",
   "metadata": {},
   "source": [
    "### Practical Question 19: Write a program that handles both IndexError and KeyError using a try-except block"
   ]
  },
  {
   "cell_type": "code",
   "execution_count": null,
   "id": "54c02a3d",
   "metadata": {},
   "outputs": [],
   "source": [
    "# Solution for Practical Question 19 goes here"
   ]
  },
  {
   "cell_type": "markdown",
   "id": "75ec58fa",
   "metadata": {},
   "source": [
    "### Practical Question 20: How would you open a file and read its contents using a context manager in Python"
   ]
  },
  {
   "cell_type": "code",
   "execution_count": null,
   "id": "30ab7a43",
   "metadata": {},
   "outputs": [],
   "source": [
    "# Solution for Practical Question 20 goes here"
   ]
  },
  {
   "cell_type": "markdown",
   "id": "af1bd8d5",
   "metadata": {},
   "source": [
    "### Practical Question 21: Write a Python program that reads a file and prints the number of occurrences of a specific word"
   ]
  },
  {
   "cell_type": "code",
   "execution_count": null,
   "id": "1cc3683a",
   "metadata": {},
   "outputs": [],
   "source": [
    "# Solution for Practical Question 21 goes here"
   ]
  },
  {
   "cell_type": "markdown",
   "id": "de1f11f5",
   "metadata": {},
   "source": [
    "### Practical Question 22: How can you check if a file is empty before attempting to read its contents"
   ]
  },
  {
   "cell_type": "code",
   "execution_count": null,
   "id": "e0e83efc",
   "metadata": {},
   "outputs": [],
   "source": [
    "# Solution for Practical Question 22 goes here"
   ]
  },
  {
   "cell_type": "markdown",
   "id": "ee6309af",
   "metadata": {},
   "source": [
    "### Practical Question 23: Write a Python program that writes to a log file when an error occurs during file handling."
   ]
  },
  {
   "cell_type": "code",
   "execution_count": null,
   "id": "a11e4fc4",
   "metadata": {},
   "outputs": [],
   "source": [
    "# Solution for Practical Question 23 goes here"
   ]
  }
 ],
 "metadata": {},
 "nbformat": 4,
 "nbformat_minor": 5
}